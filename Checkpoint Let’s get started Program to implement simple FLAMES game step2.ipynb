{
 "cells": [
  {
   "cell_type": "code",
   "execution_count": 1,
   "id": "9054ff67",
   "metadata": {},
   "outputs": [
    {
     "name": "stdout",
     "output_type": "stream",
     "text": [
      "Enter player 1 name: adnan\n",
      "Enter player 2 name: imane\n",
      "Relationship status: Lovers\n"
     ]
    }
   ],
   "source": [
    "def remove_common_characters(name1, name2):\n",
    "    \"\"\"\n",
    "    Given two names, removes the common characters with their respective common occurrences and returns the remaining\n",
    "    characters in both names as a tuple.\n",
    "    \"\"\"\n",
    "    chars1 = list(name1.upper())\n",
    "    chars2 = list(name2.upper())\n",
    "    common_chars = set(chars1) & set(chars2)\n",
    "    for char in common_chars:\n",
    "        count = min(chars1.count(char), chars2.count(char))\n",
    "        chars1 = [c for c in chars1 if c != char]\n",
    "        chars2 = [c for c in chars2 if c != char]\n",
    "    return tuple(chars1 + chars2)\n",
    "\n",
    "\n",
    "def get_relationship_status(name1, name2):\n",
    "    \"\"\"\n",
    "    Given two names, returns the FLAMES relationship status as a string.\n",
    "    \"\"\"\n",
    "    remaining_chars = remove_common_characters(name1, name2)\n",
    "    flames = [\"F\", \"L\", \"A\", \"M\", \"E\", \"S\"]\n",
    "    while len(flames) > 1:\n",
    "        count = len(remaining_chars) % len(flames)\n",
    "        if count == 0:\n",
    "            count = len(flames)\n",
    "        flames.pop(count - 1)\n",
    "    return {\n",
    "        \"F\": \"Friends\",\n",
    "        \"L\": \"Lovers\",\n",
    "        \"A\": \"Affectionate\",\n",
    "        \"M\": \"Marriage\",\n",
    "        \"E\": \"Enemies\",\n",
    "        \"S\": \"Sibling\",\n",
    "    }[flames[0]]\n",
    "\n",
    "\n",
    "# Example usage\n",
    "name1 = input(\"Enter player 1 name: \")\n",
    "name2 = input(\"Enter player 2 name: \")\n",
    "relationship_status = get_relationship_status(name1, name2)\n",
    "print(f\"Relationship status: {relationship_status}\")\n"
   ]
  },
  {
   "cell_type": "code",
   "execution_count": null,
   "id": "d5e12a38",
   "metadata": {},
   "outputs": [],
   "source": []
  }
 ],
 "metadata": {
  "kernelspec": {
   "display_name": "Python 3 (ipykernel)",
   "language": "python",
   "name": "python3"
  },
  "language_info": {
   "codemirror_mode": {
    "name": "ipython",
    "version": 3
   },
   "file_extension": ".py",
   "mimetype": "text/x-python",
   "name": "python",
   "nbconvert_exporter": "python",
   "pygments_lexer": "ipython3",
   "version": "3.9.13"
  }
 },
 "nbformat": 4,
 "nbformat_minor": 5
}
