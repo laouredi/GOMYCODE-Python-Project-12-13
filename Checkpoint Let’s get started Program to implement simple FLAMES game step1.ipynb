{
 "cells": [
  {
   "cell_type": "code",
   "execution_count": 3,
   "id": "af9f91a3",
   "metadata": {},
   "outputs": [
    {
     "name": "stdout",
     "output_type": "stream",
     "text": [
      "Marriage\n"
     ]
    }
   ],
   "source": [
    "def remove_common_characters(str1, str2):\n",
    "    \"\"\"\n",
    "    Remove all common characters from two strings\n",
    "    \"\"\"\n",
    "    for char in set(str1) & set(str2):\n",
    "        str1 = str1.replace(char, '')\n",
    "        str2 = str2.replace(char, '')\n",
    "    return str1, str2\n",
    "\n",
    "def count_remaining_characters(str1, str2):\n",
    "    \"\"\"\n",
    "    Count the total number of remaining characters after removing\n",
    "    all common characters from two strings\n",
    "    \"\"\"\n",
    "    str1, str2 = remove_common_characters(str1, str2)\n",
    "    return len(str1) + len(str2)\n",
    "\n",
    "def flames_game(str1, str2):\n",
    "    \"\"\"\n",
    "    Play the FLAMES game using two input strings\n",
    "    \"\"\"\n",
    "    result_list = [\"Friends\", \"Love\", \"Affection\", \"Marriage\", \"Enemy\", \"Siblings\"]\n",
    "    count = count_remaining_characters(str1, str2)\n",
    "    index = 0\n",
    "    while len(result_list) > 1:\n",
    "        index = (index + count - 1) % len(result_list)\n",
    "        result_list.pop(index)\n",
    "    return result_list[0]\n",
    "\n",
    "# Example usage\n",
    "result = flames_game(\"adnan\", \"salma\")\n",
    "print(result)\n"
   ]
  },
  {
   "cell_type": "code",
   "execution_count": null,
   "id": "091f1c1f",
   "metadata": {},
   "outputs": [],
   "source": []
  }
 ],
 "metadata": {
  "kernelspec": {
   "display_name": "Python 3 (ipykernel)",
   "language": "python",
   "name": "python3"
  },
  "language_info": {
   "codemirror_mode": {
    "name": "ipython",
    "version": 3
   },
   "file_extension": ".py",
   "mimetype": "text/x-python",
   "name": "python",
   "nbconvert_exporter": "python",
   "pygments_lexer": "ipython3",
   "version": "3.9.13"
  }
 },
 "nbformat": 4,
 "nbformat_minor": 5
}
